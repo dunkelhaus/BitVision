{
 "cells": [
  {
   "cell_type": "code",
   "execution_count": 20,
   "metadata": {},
   "outputs": [],
   "source": [
    "import os\n",
    "import json\n",
    "import requests\n",
    "import moment\n",
    "from bs4 import BeautifulSoup\n",
    "from textblob import TextBlob\n",
    "\n",
    "# Local\n",
    "from engine import dataset, transformer"
   ]
  },
  {
   "cell_type": "code",
   "execution_count": 2,
   "metadata": {},
   "outputs": [],
   "source": [
    "response = requests.get(\"https://www.bitstamp.net/api/ticker/\").json()"
   ]
  },
  {
   "cell_type": "code",
   "execution_count": 3,
   "metadata": {},
   "outputs": [
    {
     "data": {
      "text/plain": [
       "{'volume': '2479.83782994',\n",
       " 'last': '59353.21',\n",
       " 'timestamp': '1617412714',\n",
       " 'bid': '59347.94',\n",
       " 'vwap': '59411.44',\n",
       " 'high': '60103.04',\n",
       " 'low': '58451.65',\n",
       " 'ask': '59368.04',\n",
       " 'open': 58967.61}"
      ]
     },
     "execution_count": 3,
     "metadata": {},
     "output_type": "execute_result"
    }
   ],
   "source": [
    "response"
   ]
  },
  {
   "cell_type": "code",
   "execution_count": 4,
   "metadata": {},
   "outputs": [],
   "source": [
    "corjson = json.dumps({\n",
    "                \"error\": False,\n",
    "                \"data\": {\n",
    "                    \"last\": round(float(response[\"last\"]), 2),\n",
    "                    \"high\": round(float(response[\"high\"]), 2),\n",
    "                    \"low\": round(float(response[\"low\"]), 2),\n",
    "                    \"open\": round(float(response[\"open\"]), 2),\n",
    "                    \"volume\": round(float(response[\"volume\"]), 2)\n",
    "                }\n",
    "            }, indent=2)"
   ]
  },
  {
   "cell_type": "code",
   "execution_count": 5,
   "metadata": {},
   "outputs": [
    {
     "data": {
      "text/plain": [
       "'{\\n  \"error\": false,\\n  \"data\": {\\n    \"last\": 59353.21,\\n    \"high\": 60103.04,\\n    \"low\": 58451.65,\\n    \"open\": 58967.61,\\n    \"volume\": 2479.84\\n  }\\n}'"
      ]
     },
     "execution_count": 5,
     "metadata": {},
     "output_type": "execute_result"
    }
   ],
   "source": [
    "corjson"
   ]
  },
  {
   "cell_type": "code",
   "execution_count": 47,
   "metadata": {},
   "outputs": [],
   "source": [
    "html = requests.get(\"https://www.coindesk.com/\")\n",
    "soup = BeautifulSoup(html.text, \"html.parser\")\n",
    "\n",
    "top_articles = soup.find_all('div', class_=\"card-text-block\")\n",
    "below_list = soup.find_all('div', class_=\"list-item-card post\")\n",
    "\n",
    "headlines = []"
   ]
  },
  {
   "cell_type": "code",
   "execution_count": 42,
   "metadata": {},
   "outputs": [
    {
     "data": {
      "text/plain": [
       "(13, 20)"
      ]
     },
     "execution_count": 42,
     "metadata": {},
     "output_type": "execute_result"
    }
   ],
   "source": [
    "len(below_list), len(top_articles)"
   ]
  },
  {
   "cell_type": "code",
   "execution_count": 49,
   "metadata": {},
   "outputs": [
    {
     "name": "stdout",
     "output_type": "stream",
     "text": [
      "04-01\n",
      "/dogecoin-takes-off-after-musk-moonshot\n",
      "DOGE Jumps After Tesla’s Musk Promises ‘Literal’ Moonshot\n",
      "04-01\n",
      "/filecoin-surges-42-replaces-litecoin-as-the-9th-largest-cryptocurrency\n",
      "Filecoin Surges 42%, Replaces Litecoin as 9th Largest Digital Asset\n",
      "03-31\n",
      "/no-joke-chipotle-to-give-away-200k-in-free-burritos-and-bitcoin-on-april-1\n",
      "No Joke: Chipotle to Give Away $200K in Free Burritos and Bitcoin on April 1\n",
      "03-31\n",
      "/bull-flag-70k-bitcoin-skepticism\n",
      "‘Bull Flag’ Call for $70K Bitcoin Draws Skepticism From Rival Analysts\n",
      "03-12\n",
      "/how-to-create-buy-sell-nfts\n",
      "How to Create, Buy and Sell NFTs\n",
      "04-02\n",
      "/fincen-names-former-chainalysis-executive-acting-director-as-blanco-resigns\n",
      "FinCEN Names Former Chainalysis Executive Acting Director as Blanco Resigns\n",
      "04-02\n",
      "/former-sec-chairman-jay-clayton-new-bitcoin-regulations\n",
      "Former SEC Chairman Jay Clayton Warns of New Bitcoin Regulations\n",
      "04-02\n",
      "/ether-price-rises-above-2k-for-first-in-six-weeks\n",
      "Ether Price Jumps to All-Time High Near $2,100\n",
      "04-01\n",
      "/coindesk-q1-quarterly-review-retail-institutional-research\n",
      "Retail Gains Amid Institutional Influx in Q1: CoinDesk Quarterly Review\n",
      "04-01\n",
      "/decentraland-launches-dapp-portal-polygon-bypass-high-gas-fees\n",
      "Decentraland Launches Dapp Portal With Polygon to Bypass High Gas Fees\n",
      "04-02\n",
      "/blockchain-recovery-scam-uk-fca\n",
      "‘Blockchain Recovery’ Scam Is Posing as a Legit Firm, UK FCA Warns\n",
      "04-02\n",
      "/handshake-patches-inflation-bug\n",
      "Decentralized DNS Project Handshake Patches Inflation Bug\n",
      "04-01\n",
      "/blog/coindesk-tv-welcomes-launch-sponsors\n",
      "CoinDesk TV Welcomes Launch Sponsors\n",
      "04-02\n",
      "/crypto-as-a-payment-system-here-we-go-again\n",
      "Crypto as a Payment System? Here We Go Again\n",
      "04-01\n",
      "/podcasts/coindesk-podcast-network/archegos-fastest-wealth-loss-history\n",
      "Corruption, Leverage and Cheap Money: Archegos and the Fastest Loss of Wealth in History\n",
      "04-02\n",
      "/central-bank-digital-currencies-stimulus-inflation-bank-of-america\n",
      "Central Bank ‘Money Drops’ With Digital Currencies Could Fuel Inflation: Bank of America\n",
      "04-02\n",
      "/future-fintech-hydro-chinese-mining-farm\n",
      "Publicly-Traded Fintech Firm Acquires Chinese Mining Farm for $9M\n",
      "04-02\n",
      "/bitcoins-drop-in-volatility-may-boost-appeal-make-130k-possible-jpmorgan-says-report\n",
      "Bitcoin’s Drop in Volatility May Boost Appeal, Make $130K Possible, JPMorgan Says: Report\n",
      "04-02\n",
      "/bitcoin-decoupled-from-stocks\n",
      "Bitcoin Decoupled From Stocks in Q1 as Institutional Demand Strengthened: CoinDesk Research\n",
      "04-01\n",
      "/uniswaps-token-issue\n",
      "Uniswap’s ‘Token’ Issue\n",
      "04-02\n",
      "/market-wrap-ether-all-time-high-bitcoin-stalls\n",
      "Market Wrap: Ether Jumps to All-Time High as Bitcoin Stalls Despite JPMorgan’s $130K Call\n",
      "04-03\n",
      "/thai-central-bank-to-pilot-its-retail-central-bank-digital-currency-in-2022-report\n",
      "Thai Central Bank to Pilot Its Retail Central Bank Digital Currency in 2022: Report\n",
      "04-03\n",
      "/u-s-added-more-than-900k-jobs-in-march-blowing-past-estimates\n",
      "US Added More Than 900K Jobs in March, Blowing Past Estimates\n",
      "04-03\n",
      "/microstrategy-rated-buy-at-btig-partly-on-view-bitcoin-will-hit-95k-by-end-of-2022\n",
      "MicroStrategy Rated ‘Buy’ at BTIG Partly on View Bitcoin Will Hit $95K by End of 2022\n",
      "04-03\n",
      "/bitcoin-mining-difficulty\n",
      "Bitcoin Mining Difficulty Hits All-Time High as Delayed ASIC Shipments Come Online\n",
      "04-01\n",
      "/irs-seeks-names-of-circle-customers-transacting-over-20k\n",
      "IRS Seeks Names of Circle Customers Transacting Over $20K in Crypto\n",
      "04-01\n",
      "/market-wrap-bitcoin-below-60k-cardano-sixfold-gains\n",
      "Market Wrap: Bitcoin Stuck Below $60K; Cardano’s Sixfold 1Q Gains Led CoinDesk 20\n",
      "04-01\n",
      "/coinbases-coin-stock-to-go-live-on-nasdaq-april-14\n",
      "Coinbase’s COIN Stock to Go Live on Nasdaq April 14\n",
      "04-01\n",
      "/coinshares-partners-with-canadas-3iq-to-launch-new-bitcoin-etf-on-tsx\n",
      "CoinShares Partners With Canada’s 3iQ to Launch New Bitcoin ETF on TSX\n",
      "04-01\n",
      "/former-senior-executive-of-russias-largest-bank-leaves-for-crypto-startup\n",
      "Former Senior Executive of Russia’s Largest Bank Leaves for Crypto Startup\n",
      "04-01\n",
      "/the-myths-and-realities-of-green-bitcoin\n",
      "The Myths and Realities of ‘Green Bitcoin’\n",
      "04-01\n",
      "/vindicatio-nft-pioneer-looks-ahead\n",
      "‘There’s a Sense of Vindication’: A NFT Pioneer Looks to the Future\n",
      "04-01\n",
      "/bitcoin-miners-record-revenue\n",
      "Bitcoin Miners Saw a Monthly Record $1.5B Revenue in March\n"
     ]
    }
   ],
   "source": [
    "for i in top_articles + below_list:\n",
    "    date_container = i.find(\"span\", class_=\"card-date\")\n",
    "    \n",
    "    if date_container is None:\n",
    "        # i.e. below_list\n",
    "        date_container = i.find(\"time\")\n",
    "    \n",
    "    date_published = moment.date(date_container.get_text()).format(\"M-D\")\n",
    "    print(date_published)\n",
    "    headline_container = i.find(\"h4\") if i.find(\"h4\") else i.find(\"h2\")\n",
    "    headline = headline_container.get_text().strip()\n",
    "    print(i.find(\"a\", class_=\"\")[\"href\"])\n",
    "    \n",
    "    print(headline)\n",
    "    headlines.append((headline, date_published, i.find(\"a\", class_=\"\")[\"href\"]))"
   ]
  },
  {
   "cell_type": "code",
   "execution_count": 52,
   "metadata": {},
   "outputs": [],
   "source": [
    "ordered_headlines = sorted(headlines, key=lambda h: h[1], reverse=True)\n",
    "processed_headlines = []\n",
    "for headline in ordered_headlines:\n",
    "    headline_str = headline[0].split('\\n')[0]\n",
    "    date_published = headline[1]\n",
    "    sentiment = TextBlob(headline_str).sentiment.polarity\n",
    "\n",
    "    if sentiment > 0:\n",
    "        sentiment = \"POS\"\n",
    "    elif int(sentiment) == 0:\n",
    "        sentiment = \"NEUT\"\n",
    "    else:\n",
    "        sentiment = \"NEG\"\n",
    "\n",
    "    processed_headlines += [[\n",
    "        date_published,\n",
    "        headline_str,\n",
    "        sentiment,\n",
    "        headline[2]\n",
    "    ]]"
   ]
  },
  {
   "cell_type": "code",
   "execution_count": 54,
   "metadata": {},
   "outputs": [
    {
     "data": {
      "text/plain": [
       "[['04-03',\n",
       "  'Thai Central Bank to Pilot Its Retail Central Bank Digital Currency in 2022: Report',\n",
       "  'NEUT',\n",
       "  '/thai-central-bank-to-pilot-its-retail-central-bank-digital-currency-in-2022-report'],\n",
       " ['04-03',\n",
       "  'US Added More Than 900K Jobs in March, Blowing Past Estimates',\n",
       "  'POS',\n",
       "  '/u-s-added-more-than-900k-jobs-in-march-blowing-past-estimates'],\n",
       " ['04-03',\n",
       "  'MicroStrategy Rated ‘Buy’ at BTIG Partly on View Bitcoin Will Hit $95K by End of 2022',\n",
       "  'NEUT',\n",
       "  '/microstrategy-rated-buy-at-btig-partly-on-view-bitcoin-will-hit-95k-by-end-of-2022'],\n",
       " ['04-03',\n",
       "  'Bitcoin Mining Difficulty Hits All-Time High as Delayed ASIC Shipments Come Online',\n",
       "  'POS',\n",
       "  '/bitcoin-mining-difficulty'],\n",
       " ['04-02',\n",
       "  'FinCEN Names Former Chainalysis Executive Acting Director as Blanco Resigns',\n",
       "  'NEUT',\n",
       "  '/fincen-names-former-chainalysis-executive-acting-director-as-blanco-resigns'],\n",
       " ['04-02',\n",
       "  'Former SEC Chairman Jay Clayton Warns of New Bitcoin Regulations',\n",
       "  'POS',\n",
       "  '/former-sec-chairman-jay-clayton-new-bitcoin-regulations'],\n",
       " ['04-02',\n",
       "  'Ether Price Jumps to All-Time High Near $2,100',\n",
       "  'POS',\n",
       "  '/ether-price-rises-above-2k-for-first-in-six-weeks'],\n",
       " ['04-02',\n",
       "  '‘Blockchain Recovery’ Scam Is Posing as a Legit Firm, UK FCA Warns',\n",
       "  'NEUT',\n",
       "  '/blockchain-recovery-scam-uk-fca'],\n",
       " ['04-02',\n",
       "  'Decentralized DNS Project Handshake Patches Inflation Bug',\n",
       "  'NEUT',\n",
       "  '/handshake-patches-inflation-bug'],\n",
       " ['04-02',\n",
       "  'Crypto as a Payment System? Here We Go Again',\n",
       "  'NEUT',\n",
       "  '/crypto-as-a-payment-system-here-we-go-again'],\n",
       " ['04-02',\n",
       "  'Central Bank ‘Money Drops’ With Digital Currencies Could Fuel Inflation: Bank of America',\n",
       "  'NEUT',\n",
       "  '/central-bank-digital-currencies-stimulus-inflation-bank-of-america'],\n",
       " ['04-02',\n",
       "  'Publicly-Traded Fintech Firm Acquires Chinese Mining Farm for $9M',\n",
       "  'NEUT',\n",
       "  '/future-fintech-hydro-chinese-mining-farm'],\n",
       " ['04-02',\n",
       "  'Bitcoin’s Drop in Volatility May Boost Appeal, Make $130K Possible, JPMorgan Says: Report',\n",
       "  'NEUT',\n",
       "  '/bitcoins-drop-in-volatility-may-boost-appeal-make-130k-possible-jpmorgan-says-report'],\n",
       " ['04-02',\n",
       "  'Bitcoin Decoupled From Stocks in Q1 as Institutional Demand Strengthened: CoinDesk Research',\n",
       "  'NEUT',\n",
       "  '/bitcoin-decoupled-from-stocks'],\n",
       " ['04-02',\n",
       "  'Market Wrap: Ether Jumps to All-Time High as Bitcoin Stalls Despite JPMorgan’s $130K Call',\n",
       "  'POS',\n",
       "  '/market-wrap-ether-all-time-high-bitcoin-stalls'],\n",
       " ['04-01',\n",
       "  'DOGE Jumps After Tesla’s Musk Promises ‘Literal’ Moonshot',\n",
       "  'NEUT',\n",
       "  '/dogecoin-takes-off-after-musk-moonshot'],\n",
       " ['04-01',\n",
       "  'Filecoin Surges 42%, Replaces Litecoin as 9th Largest Digital Asset',\n",
       "  'NEUT',\n",
       "  '/filecoin-surges-42-replaces-litecoin-as-the-9th-largest-cryptocurrency'],\n",
       " ['04-01',\n",
       "  'Retail Gains Amid Institutional Influx in Q1: CoinDesk Quarterly Review',\n",
       "  'NEUT',\n",
       "  '/coindesk-q1-quarterly-review-retail-institutional-research'],\n",
       " ['04-01',\n",
       "  'Decentraland Launches Dapp Portal With Polygon to Bypass High Gas Fees',\n",
       "  'POS',\n",
       "  '/decentraland-launches-dapp-portal-polygon-bypass-high-gas-fees'],\n",
       " ['04-01',\n",
       "  'CoinDesk TV Welcomes Launch Sponsors',\n",
       "  'NEUT',\n",
       "  '/blog/coindesk-tv-welcomes-launch-sponsors'],\n",
       " ['04-01',\n",
       "  'Corruption, Leverage and Cheap Money: Archegos and the Fastest Loss of Wealth in History',\n",
       "  'POS',\n",
       "  '/podcasts/coindesk-podcast-network/archegos-fastest-wealth-loss-history'],\n",
       " ['04-01', 'Uniswap’s ‘Token’ Issue', 'NEUT', '/uniswaps-token-issue'],\n",
       " ['04-01',\n",
       "  'IRS Seeks Names of Circle Customers Transacting Over $20K in Crypto',\n",
       "  'NEUT',\n",
       "  '/irs-seeks-names-of-circle-customers-transacting-over-20k'],\n",
       " ['04-01',\n",
       "  'Market Wrap: Bitcoin Stuck Below $60K; Cardano’s Sixfold 1Q Gains Led CoinDesk 20',\n",
       "  'NEUT',\n",
       "  '/market-wrap-bitcoin-below-60k-cardano-sixfold-gains'],\n",
       " ['04-01',\n",
       "  'Coinbase’s COIN Stock to Go Live on Nasdaq April 14',\n",
       "  'POS',\n",
       "  '/coinbases-coin-stock-to-go-live-on-nasdaq-april-14'],\n",
       " ['04-01',\n",
       "  'CoinShares Partners With Canada’s 3iQ to Launch New Bitcoin ETF on TSX',\n",
       "  'POS',\n",
       "  '/coinshares-partners-with-canadas-3iq-to-launch-new-bitcoin-etf-on-tsx'],\n",
       " ['04-01',\n",
       "  'Former Senior Executive of Russia’s Largest Bank Leaves for Crypto Startup',\n",
       "  'NEUT',\n",
       "  '/former-senior-executive-of-russias-largest-bank-leaves-for-crypto-startup'],\n",
       " ['04-01',\n",
       "  'The Myths and Realities of ‘Green Bitcoin’',\n",
       "  'NEUT',\n",
       "  '/the-myths-and-realities-of-green-bitcoin'],\n",
       " ['04-01',\n",
       "  '‘There’s a Sense of Vindication’: A NFT Pioneer Looks to the Future',\n",
       "  'NEUT',\n",
       "  '/vindicatio-nft-pioneer-looks-ahead'],\n",
       " ['04-01',\n",
       "  'Bitcoin Miners Saw a Monthly Record $1.5B Revenue in March',\n",
       "  'NEUT',\n",
       "  '/bitcoin-miners-record-revenue'],\n",
       " ['03-31',\n",
       "  'No Joke: Chipotle to Give Away $200K in Free Burritos and Bitcoin on April 1',\n",
       "  'POS',\n",
       "  '/no-joke-chipotle-to-give-away-200k-in-free-burritos-and-bitcoin-on-april-1'],\n",
       " ['03-31',\n",
       "  '‘Bull Flag’ Call for $70K Bitcoin Draws Skepticism From Rival Analysts',\n",
       "  'NEUT',\n",
       "  '/bull-flag-70k-bitcoin-skepticism'],\n",
       " ['03-12',\n",
       "  'How to Create, Buy and Sell NFTs',\n",
       "  'NEUT',\n",
       "  '/how-to-create-buy-sell-nfts']]"
      ]
     },
     "execution_count": 54,
     "metadata": {},
     "output_type": "execute_result"
    }
   ],
   "source": [
    "processed_headlines"
   ]
  },
  {
   "cell_type": "code",
   "execution_count": null,
   "metadata": {},
   "outputs": [],
   "source": []
  }
 ],
 "metadata": {
  "kernelspec": {
   "display_name": "Python 3",
   "language": "python",
   "name": "python3"
  },
  "language_info": {
   "codemirror_mode": {
    "name": "ipython",
    "version": 3
   },
   "file_extension": ".py",
   "mimetype": "text/x-python",
   "name": "python",
   "nbconvert_exporter": "python",
   "pygments_lexer": "ipython3",
   "version": "3.7.7"
  }
 },
 "nbformat": 4,
 "nbformat_minor": 4
}
